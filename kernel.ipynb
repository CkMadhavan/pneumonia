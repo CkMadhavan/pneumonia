{
  "cells": [
    {
      "metadata": {
        "_uuid": "8f2839f25d086af736a60e9eeb907d3b93b6e0e5",
        "_cell_guid": "b1076dfc-b9ad-4769-8c92-a6c4dae69d19",
        "trusted": true
      },
      "cell_type": "code",
      "source": "import numpy as np\nimport pandas as pd\nimport cv2\nimport os\ndirectory = '../input/chest_xray/chest_xray/train/'\n\nchoices = ['NORMAL' , 'PNEUMONIA']\n\ntraining_data = []\n\nfor i in choices:\n    path = directory + i\n    for j in os.listdir(path):\n        try:\n            arr = cv2.imread(path + '/' +j , 0)\n            new_arr = cv2.resize(arr , (28,28))\n            training_data.append([new_arr , choices.index(i)])\n        except Exception as e:\n            pass\n#print(training_data)\n\nimport random\n\nrandom.shuffle(training_data)\n\nX = []\nY = []\nfor f , l in training_data:\n    X.append(f)\n    Y.append(l)\nX = np.array(X)\nY = np.array(Y)",
      "execution_count": null,
      "outputs": []
    },
    {
      "metadata": {
        "trusted": true,
        "_uuid": "f2d10f97921076c29ea6aa65aa62e71fab491e97"
      },
      "cell_type": "code",
      "source": "X = X / 225.0\n\nX = X.reshape(-1 , 28 , 28, 1)",
      "execution_count": null,
      "outputs": []
    },
    {
      "metadata": {
        "trusted": true,
        "_uuid": "ad5972352b67595b803b8be84f33248f654771a3"
      },
      "cell_type": "code",
      "source": "import tensorflow as tf\n\nmodel = tf.keras.Sequential()\n\nmodel.add(tf.keras.layers.Conv2D(256 ,(3,3) , input_shape = (28 , 28 , 1)))\nmodel.add(tf.keras.layers.Activation('relu'))\nmodel.add(tf.keras.layers.MaxPooling2D(pool_size = (2,2)))\n\nmodel.add(tf.keras.layers.Conv2D(256 ,(3,3)))\nmodel.add(tf.keras.layers.Activation('relu'))\nmodel.add(tf.keras.layers.MaxPooling2D(pool_size = (2,2)))\n\nmodel.add(tf.keras.layers.Conv2D(256 ,(3,3)))\nmodel.add(tf.keras.layers.Activation('relu'))\nmodel.add(tf.keras.layers.MaxPooling2D(pool_size = (2,2)))\n\nmodel.add(tf.keras.layers.Flatten())\nmodel.add(tf.keras.layers.Dense(64))\nmodel.add(tf.keras.layers.Activation('relu'))\nmodel.add(tf.keras.layers.Dense(64))\nmodel.add(tf.keras.layers.Activation('relu'))\nmodel.add(tf.keras.layers.Dense(1))\nmodel.add(tf.keras.layers.Activation('sigmoid'))\n\nmodel.compile(loss = 'binary_crossentropy' , optimizer = 'adam' , metrics = ['acc'])",
      "execution_count": null,
      "outputs": []
    },
    {
      "metadata": {
        "trusted": true,
        "_uuid": "f6bbbad9b7f7e4c5fc54e0625da697050920d482"
      },
      "cell_type": "code",
      "source": "validation = []\n\nfor i in choices:\n    path = \"../input/chest_xray/chest_xray/val/\" + i\n    for j in os.listdir(path):\n        try:\n            arr = cv2.imread(path + '/' +j , 0)\n            new_arr = cv2.resize(arr , (28,28))\n            validation.append([new_arr , choices.index(i)])\n        except Exception as e:\n            pass\n        \nrandom.shuffle(validation)\n\nXv = []\nYv = []\nfor f , l in validation:\n    Xv.append(f)\n    Yv.append(l)\nXv = np.array(X)\nYv = np.array(Y)",
      "execution_count": null,
      "outputs": []
    },
    {
      "metadata": {
        "trusted": true,
        "_uuid": "b3552ffea6a7ef4e316a8d71a021d3b6c4b3973e"
      },
      "cell_type": "code",
      "source": "his = model.fit(X , Y , validation_data = (Xv , Yv) , epochs = 10)",
      "execution_count": null,
      "outputs": []
    },
    {
      "metadata": {
        "trusted": true,
        "_uuid": "9d81b207da77880e259361095e983cad8a620936"
      },
      "cell_type": "code",
      "source": "import matplotlib.pyplot as plt\n\nprint(his.history.keys())\n# summarize history for loss\nplt.plot(his.history['loss'])\nplt.plot(his.history['val_loss'])\nplt.title('model loss')\nplt.ylabel('loss')\nplt.xlabel('epoch')\nplt.legend(['train', 'test'], loc='upper left')\nplt.show()\n\nnp.argmin(his.history['val_loss'])",
      "execution_count": null,
      "outputs": []
    },
    {
      "metadata": {
        "_uuid": "446620e7db4684f68681877be1a53ed8f5f2cd0e"
      },
      "cell_type": "markdown",
      "source": "model.save_weights('weights.h5')"
    },
    {
      "metadata": {
        "trusted": true,
        "_uuid": "705d555a06221aadcd8b70f4f9cf84ccafe650f2"
      },
      "cell_type": "code",
      "source": "from sklearn.metrics import accuracy_score\n\ntest_data = []\nchoice = [\"NORMAL\" , \"PNEUMONIA\"]\nfor i in choice:\n    path = \"../input/chest_xray/chest_xray/test/\" + i\n    for j in os.listdir(path):\n        try:\n            arr = cv2.imread(path + '/' +j , 0)\n            new_arr = cv2.resize(arr , (28,28))\n            test_data.append([new_arr , choice.index(i)])\n        except Exception as e:\n            pass\n        \nrandom.shuffle(test_data)\n\nXt = []\nYt = []\nfor f , l in test_data:\n    Xt.append(f)\n    Yt.append(l)\nXt = np.array(Xt)\nYt = np.array(Yt)\n\npred = model.predict(Xt.reshape(-1,28,28 , 1))\npredictions = []\nfor i in pred:\n    if i < 0.5:\n        predictions.append(0)\n    else:\n        predictions.append(1)\n\naccuracy_score(predictions , Yt)",
      "execution_count": null,
      "outputs": []
    },
    {
      "metadata": {
        "trusted": true,
        "_uuid": "ee6293ebc3a82a614dd46bce8e2a010262af03f5"
      },
      "cell_type": "code",
      "source": "model.save_weights('weight.h5')",
      "execution_count": null,
      "outputs": []
    }
  ],
  "metadata": {
    "kernelspec": {
      "display_name": "Python 3",
      "language": "python",
      "name": "python3"
    },
    "language_info": {
      "name": "python",
      "version": "3.6.6",
      "mimetype": "text/x-python",
      "codemirror_mode": {
        "name": "ipython",
        "version": 3
      },
      "pygments_lexer": "ipython3",
      "nbconvert_exporter": "python",
      "file_extension": ".py"
    }
  },
  "nbformat": 4,
  "nbformat_minor": 1
}